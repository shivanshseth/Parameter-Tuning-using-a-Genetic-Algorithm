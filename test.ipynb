{
 "nbformat": 4,
 "nbformat_minor": 2,
 "metadata": {
  "language_info": {
   "name": "python",
   "codemirror_mode": {
    "name": "ipython",
    "version": 3
   },
   "version": "2.7.17-final"
  },
  "orig_nbformat": 2,
  "file_extension": ".py",
  "mimetype": "text/x-python",
  "name": "python",
  "npconvert_exporter": "python",
  "pygments_lexer": "ipython3",
  "version": 3,
  "kernelspec": {
   "name": "fibgen",
   "display_name": "fibgen"
  }
 },
 "cells": [
  {
   "cell_type": "code",
   "execution_count": 27,
   "metadata": {},
   "outputs": [],
   "source": [
    "import numpy as np\n",
    "from client_moodle import get_errors, submit\n",
    "import json\n",
    "from main import Person"
   ]
  },
  {
   "cell_type": "code",
   "execution_count": 40,
   "metadata": {},
   "outputs": [],
   "source": [
    "file = open('results/2020-04-03 01:38:12.980843', 'r+')\n",
    "results = json.load(file)"
   ]
  },
  {
   "cell_type": "code",
   "execution_count": 41,
   "metadata": {
    "tags": [
     "outputPrepend"
    ]
   },
   "outputs": [],
   "source": [
    "\n",
    "error = [sum(i[1]) + abs(i[1][0] - i[1][1]) for i in results]\n",
    "indices = np.argsort(error)"
   ]
  },
  {
   "cell_type": "code",
   "execution_count": 42,
   "metadata": {
    "tags": [
     "outputPrepend"
    ]
   },
   "outputs": [],
   "source": [
    "best_params = results[indices[0]]\n",
    "# submit('oWWGKhmdis1hyUyJWgHPHDRcOrTLIF98xSuWuUMzLSHWkAeieT', best_params[0])"
   ]
  },
  {
   "cell_type": "code",
   "execution_count": 43,
   "metadata": {},
   "outputs": [
    {
     "output_type": "stream",
     "name": "stdout",
     "text": "[512350.6001759639, 624929.7520909426]\n"
    }
   ],
   "source": [
    "print(best_params[1])"
   ]
  },
  {
   "cell_type": "code",
   "execution_count": 20,
   "metadata": {},
   "outputs": [],
   "source": [
    "mutation_deviation = 400\n",
    "team_id = 'oWWGKhmdis1hyUyJWgHPHDRcOrTLIF98xSuWuUMzLSHWkAeieT'\n",
    "overfit = [-9.571128736063784, -2.2260835745644565, -4.955862930544399, 0.05928163553794297, 0.030374250874256527, 5.593125966272605e-05, -4.8026048883998e-05, -9.940176332511661e-08, 2.781288862880898e-08, 3.310817547859367e-11, -5.349865408359655e-12]\n",
    "\n",
    "population_size = 40\n",
    "\n",
    "iteration_count = 10\n",
    "\n",
    "param_min = -10\n",
    "param_max = 10\n",
    "\n",
    "param_size = 11\n",
    "\n",
    "data_collected = []\n",
    "prob_of_mutation = 15"
   ]
  },
  {
   "cell_type": "code",
   "execution_count": 26,
   "metadata": {},
   "outputs": [
    {
     "output_type": "stream",
     "name": "stdout",
     "text": "[-9.571128736063784, 6.680650173449878, -4.955862930544399, 0.05928163553794297, 0.030374250874256527, 5.593125966272605e-05, -4.800625649211208e-05, -9.940176332511661e-08, 2.781288862880898e-08, 3.310817547859367e-11, -5.349865408359655e-12]\n"
    },
    {
     "output_type": "execute_result",
     "data": {
      "text/plain": "[486180.0690601527, 690642.3983102596]"
     },
     "metadata": {},
     "execution_count": 26
    }
   ],
   "source": [
    "pp = Person()\n",
    "pp.params = [-9.571128736063784, 6.680650173449878, -4.955862930544399, 0.05928163553794297, 0.030374250874256527, 5.593125966272605e-05, -4.8026048883998e-05, -9.940176332511661e-08, 2.781288862880898e-08, 3.310817547859367e-11, -5.349865408359655e-12]\n",
    "pp.mutate()\n",
    "print(pp.params)\n",
    "get_errors('oWWGKhmdis1hyUyJWgHPHDRcOrTLIF98xSuWuUMzLSHWkAeieT', pp.params)"
   ]
  },
  {
   "cell_type": "code",
   "execution_count": 32,
   "metadata": {},
   "outputs": [
    {
     "output_type": "stream",
     "name": "stdout",
     "text": "1193569.928224396\n"
    }
   ],
   "source": [
    "print(1/8.378227168370784e-07\n",
    ")"
   ]
  },
  {
   "cell_type": "code",
   "execution_count": null,
   "metadata": {},
   "outputs": [],
   "source": []
  }
 ]
}